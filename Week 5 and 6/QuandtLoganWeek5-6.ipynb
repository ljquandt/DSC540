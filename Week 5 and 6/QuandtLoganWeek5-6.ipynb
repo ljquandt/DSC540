{
 "cells": [
  {
   "cell_type": "markdown",
   "id": "c3d17d84",
   "metadata": {},
   "source": [
    "# DSC540 Week5-6 Assignments"
   ]
  },
  {
   "cell_type": "markdown",
   "id": "41164ce4",
   "metadata": {},
   "source": [
    "Logan Quandt"
   ]
  },
  {
   "cell_type": "markdown",
   "id": "913811de",
   "metadata": {},
   "source": [
    "# Activity 7"
   ]
  },
  {
   "cell_type": "code",
   "execution_count": 16,
   "id": "62835aef",
   "metadata": {},
   "outputs": [],
   "source": [
    "from bs4 import BeautifulSoup\n",
    "import pandas as pd\n",
    "import bs4\n",
    "import numpy as np\n",
    "import matplotlib.pyplot as plt"
   ]
  },
  {
   "cell_type": "code",
   "execution_count": 17,
   "id": "f8515ccb",
   "metadata": {},
   "outputs": [],
   "source": [
    "#open htm file with Beautiful soup, used utf-8 encoding to fix error when opening, found solution on stackoverflow\n",
    "with open(\"List of countries by GDP (nominal) - Wikipedia.htm\", 'r', encoding = 'utf-8') as file:\n",
    "    soup = BeautifulSoup(file)\n",
    "    file.close()"
   ]
  },
  {
   "cell_type": "code",
   "execution_count": 18,
   "id": "0a1810e5",
   "metadata": {},
   "outputs": [
    {
     "name": "stdout",
     "output_type": "stream",
     "text": [
      "Total Number of tables: 9\n"
     ]
    }
   ],
   "source": [
    "#find the number of tables using find_all\n",
    "tables = soup.find_all('table')\n",
    "print('Total Number of tables:', len(tables))"
   ]
  },
  {
   "cell_type": "code",
   "execution_count": 19,
   "id": "b78ccc1a",
   "metadata": {},
   "outputs": [
    {
     "data": {
      "text/plain": [
       "bs4.element.Tag"
      ]
     },
     "execution_count": 19,
     "metadata": {},
     "output_type": "execute_result"
    }
   ],
   "source": [
    "#find the correct table for excercise\n",
    "data_table = soup.find('table', {'class': '\"wikitable\"|}'})\n",
    "type(data_table) #display table type"
   ]
  },
  {
   "cell_type": "code",
   "execution_count": 20,
   "id": "59d7dc9d",
   "metadata": {},
   "outputs": [
    {
     "name": "stdout",
     "output_type": "stream",
     "text": [
      "Total Number of Tables: 3\n"
     ]
    }
   ],
   "source": [
    "#separate sources from data\n",
    "sources = data_table.tbody.findAll('tr', recursive = False)[0]\n",
    "\n",
    "#get list of sources using for loop\n",
    "sources_list = [td for td in sources.findAll('td')]\n",
    "print('Total Number of Tables:', len(sources_list)) #print number of tables"
   ]
  },
  {
   "cell_type": "code",
   "execution_count": 21,
   "id": "e5663d0f",
   "metadata": {},
   "outputs": [
    {
     "name": "stdout",
     "output_type": "stream",
     "text": [
      "Total Number of Data Tables: 3\n"
     ]
    }
   ],
   "source": [
    "#finding data from sources\n",
    "data = data_table.tbody.findAll('tr', recursive= False)[1].findAll('td', recursive = False)\n",
    "\n",
    "d_tables = []\n",
    "for td in data:\n",
    "    d_tables.append(td.findAll('table'))\n",
    "print('Total Number of Data Tables:', len(d_tables)) #print number of data tables"
   ]
  },
  {
   "cell_type": "code",
   "execution_count": 22,
   "id": "42c38de5",
   "metadata": {},
   "outputs": [
    {
     "data": {
      "text/plain": [
       "['International Monetary Fund', 'World Bank', 'United Nations']"
      ]
     },
     "execution_count": 22,
     "metadata": {},
     "output_type": "execute_result"
    }
   ],
   "source": [
    "#getting source names using findall parsed to 'a' and using getText()\n",
    "sources_names = [s.findAll('a')[0].getText() for s in sources_list]\n",
    "sources_names"
   ]
  },
  {
   "cell_type": "code",
   "execution_count": 23,
   "id": "51d742ac",
   "metadata": {},
   "outputs": [
    {
     "data": {
      "text/plain": [
       "['Rank', 'Country', 'GDP(US$MM)']"
      ]
     },
     "execution_count": 23,
     "metadata": {},
     "output_type": "execute_result"
    }
   ],
   "source": [
    "#find data frame for first source, separate header using strip extracting 'thead'\n",
    "head1 = [th.getText().strip() for th in d_tables[0][0].findAll('thead')[0].findAll('th')]\n",
    "head1"
   ]
  },
  {
   "cell_type": "code",
   "execution_count": 24,
   "id": "ef0e5820",
   "metadata": {},
   "outputs": [
    {
     "data": {
      "text/html": [
       "<div>\n",
       "<style scoped>\n",
       "    .dataframe tbody tr th:only-of-type {\n",
       "        vertical-align: middle;\n",
       "    }\n",
       "\n",
       "    .dataframe tbody tr th {\n",
       "        vertical-align: top;\n",
       "    }\n",
       "\n",
       "    .dataframe thead th {\n",
       "        text-align: right;\n",
       "    }\n",
       "</style>\n",
       "<table border=\"1\" class=\"dataframe\">\n",
       "  <thead>\n",
       "    <tr style=\"text-align: right;\">\n",
       "      <th></th>\n",
       "      <th>Rank</th>\n",
       "      <th>Country</th>\n",
       "      <th>GDP(US$MM)</th>\n",
       "    </tr>\n",
       "  </thead>\n",
       "  <tbody>\n",
       "    <tr>\n",
       "      <th>0</th>\n",
       "      <td>1</td>\n",
       "      <td>United States</td>\n",
       "      <td>19,390,600</td>\n",
       "    </tr>\n",
       "    <tr>\n",
       "      <th>1</th>\n",
       "      <td>2</td>\n",
       "      <td>China[n 1]</td>\n",
       "      <td>12,014,610</td>\n",
       "    </tr>\n",
       "    <tr>\n",
       "      <th>2</th>\n",
       "      <td>3</td>\n",
       "      <td>Japan</td>\n",
       "      <td>4,872,135</td>\n",
       "    </tr>\n",
       "    <tr>\n",
       "      <th>3</th>\n",
       "      <td>4</td>\n",
       "      <td>Germany</td>\n",
       "      <td>3,684,816</td>\n",
       "    </tr>\n",
       "    <tr>\n",
       "      <th>4</th>\n",
       "      <td>5</td>\n",
       "      <td>United Kingdom</td>\n",
       "      <td>2,624,529</td>\n",
       "    </tr>\n",
       "    <tr>\n",
       "      <th>...</th>\n",
       "      <td>...</td>\n",
       "      <td>...</td>\n",
       "      <td>...</td>\n",
       "    </tr>\n",
       "    <tr>\n",
       "      <th>186</th>\n",
       "      <td>186</td>\n",
       "      <td>Federated States of Micronesia</td>\n",
       "      <td>329</td>\n",
       "    </tr>\n",
       "    <tr>\n",
       "      <th>187</th>\n",
       "      <td>187</td>\n",
       "      <td>Palau</td>\n",
       "      <td>321</td>\n",
       "    </tr>\n",
       "    <tr>\n",
       "      <th>188</th>\n",
       "      <td>188</td>\n",
       "      <td>Marshall Islands</td>\n",
       "      <td>199</td>\n",
       "    </tr>\n",
       "    <tr>\n",
       "      <th>189</th>\n",
       "      <td>189</td>\n",
       "      <td>Kiribati</td>\n",
       "      <td>186</td>\n",
       "    </tr>\n",
       "    <tr>\n",
       "      <th>190</th>\n",
       "      <td>190</td>\n",
       "      <td>Tuvalu</td>\n",
       "      <td>40</td>\n",
       "    </tr>\n",
       "  </tbody>\n",
       "</table>\n",
       "<p>191 rows × 3 columns</p>\n",
       "</div>"
      ],
      "text/plain": [
       "    Rank                         Country  GDP(US$MM)\n",
       "0      1                   United States  19,390,600\n",
       "1      2                      China[n 1]  12,014,610\n",
       "2      3                           Japan   4,872,135\n",
       "3      4                         Germany   3,684,816\n",
       "4      5                  United Kingdom   2,624,529\n",
       "..   ...                             ...         ...\n",
       "186  186  Federated States of Micronesia         329\n",
       "187  187                           Palau         321\n",
       "188  188                Marshall Islands         199\n",
       "189  189                        Kiribati         186\n",
       "190  190                          Tuvalu          40\n",
       "\n",
       "[191 rows x 3 columns]"
      ]
     },
     "execution_count": 24,
     "metadata": {},
     "output_type": "execute_result"
    }
   ],
   "source": [
    "#find rows through tbody using findAll\n",
    "rows1 = d_tables[0][0].findAll('tbody')[0].findAll('tr')[1:]\n",
    "#finding data from the rows using strip() parsing td\n",
    "data_rows1 = [[td.getText().strip() for td in tr.findAll('td')] for tr in rows1]\n",
    "\n",
    "#create pandas dataframe for easy viewing\n",
    "df_one = pd.DataFrame(data_rows1, columns = head1)\n",
    "df_one"
   ]
  },
  {
   "cell_type": "code",
   "execution_count": 25,
   "id": "e10e59cb",
   "metadata": {},
   "outputs": [
    {
     "data": {
      "text/plain": [
       "['Rank', 'Country', 'GDP(US$MM)']"
      ]
     },
     "execution_count": 25,
     "metadata": {},
     "output_type": "execute_result"
    }
   ],
   "source": [
    "#repeat steps for other two sources\n",
    "\n",
    "#find data frame for first source, separate header using strip extracting 'thead'\n",
    "head2 = [th.getText().strip() for th in d_tables[1][0].findAll('thead')[0].findAll('th')]\n",
    "head2"
   ]
  },
  {
   "cell_type": "code",
   "execution_count": 26,
   "id": "a112ed0e",
   "metadata": {},
   "outputs": [
    {
     "data": {
      "text/html": [
       "<div>\n",
       "<style scoped>\n",
       "    .dataframe tbody tr th:only-of-type {\n",
       "        vertical-align: middle;\n",
       "    }\n",
       "\n",
       "    .dataframe tbody tr th {\n",
       "        vertical-align: top;\n",
       "    }\n",
       "\n",
       "    .dataframe thead th {\n",
       "        text-align: right;\n",
       "    }\n",
       "</style>\n",
       "<table border=\"1\" class=\"dataframe\">\n",
       "  <thead>\n",
       "    <tr style=\"text-align: right;\">\n",
       "      <th></th>\n",
       "      <th>Rank</th>\n",
       "      <th>Country</th>\n",
       "      <th>GDP(US$MM)</th>\n",
       "    </tr>\n",
       "  </thead>\n",
       "  <tbody>\n",
       "    <tr>\n",
       "      <th>0</th>\n",
       "      <td>1</td>\n",
       "      <td>United States</td>\n",
       "      <td>19,390,604</td>\n",
       "    </tr>\n",
       "    <tr>\n",
       "      <th>1</th>\n",
       "      <td></td>\n",
       "      <td>European Union[23]</td>\n",
       "      <td>17,277,698</td>\n",
       "    </tr>\n",
       "    <tr>\n",
       "      <th>2</th>\n",
       "      <td>2</td>\n",
       "      <td>China[n 4]</td>\n",
       "      <td>12,237,700</td>\n",
       "    </tr>\n",
       "    <tr>\n",
       "      <th>3</th>\n",
       "      <td>3</td>\n",
       "      <td>Japan</td>\n",
       "      <td>4,872,137</td>\n",
       "    </tr>\n",
       "    <tr>\n",
       "      <th>4</th>\n",
       "      <td>4</td>\n",
       "      <td>Germany</td>\n",
       "      <td>3,677,439</td>\n",
       "    </tr>\n",
       "    <tr>\n",
       "      <th>...</th>\n",
       "      <td>...</td>\n",
       "      <td>...</td>\n",
       "      <td>...</td>\n",
       "    </tr>\n",
       "    <tr>\n",
       "      <th>184</th>\n",
       "      <td>184</td>\n",
       "      <td>Palau</td>\n",
       "      <td>292</td>\n",
       "    </tr>\n",
       "    <tr>\n",
       "      <th>185</th>\n",
       "      <td>185</td>\n",
       "      <td>Marshall Islands</td>\n",
       "      <td>199</td>\n",
       "    </tr>\n",
       "    <tr>\n",
       "      <th>186</th>\n",
       "      <td>186</td>\n",
       "      <td>Kiribati</td>\n",
       "      <td>196</td>\n",
       "    </tr>\n",
       "    <tr>\n",
       "      <th>187</th>\n",
       "      <td>187</td>\n",
       "      <td>Nauru</td>\n",
       "      <td>114</td>\n",
       "    </tr>\n",
       "    <tr>\n",
       "      <th>188</th>\n",
       "      <td>188</td>\n",
       "      <td>Tuvalu</td>\n",
       "      <td>40</td>\n",
       "    </tr>\n",
       "  </tbody>\n",
       "</table>\n",
       "<p>189 rows × 3 columns</p>\n",
       "</div>"
      ],
      "text/plain": [
       "    Rank             Country  GDP(US$MM)\n",
       "0      1       United States  19,390,604\n",
       "1         European Union[23]  17,277,698\n",
       "2      2          China[n 4]  12,237,700\n",
       "3      3               Japan   4,872,137\n",
       "4      4             Germany   3,677,439\n",
       "..   ...                 ...         ...\n",
       "184  184               Palau         292\n",
       "185  185    Marshall Islands         199\n",
       "186  186            Kiribati         196\n",
       "187  187               Nauru         114\n",
       "188  188              Tuvalu          40\n",
       "\n",
       "[189 rows x 3 columns]"
      ]
     },
     "execution_count": 26,
     "metadata": {},
     "output_type": "execute_result"
    }
   ],
   "source": [
    "#find rows through tbody using findAll\n",
    "rows2 = d_tables[1][0].findAll('tbody')[0].findAll('tr')[1:]\n",
    "\n",
    "#create function to remove unwanted '♠'\n",
    "def text_strip(i, td):\n",
    "    if i == 0:\n",
    "        return td.getText().strip()\n",
    "    elif i == 1:\n",
    "        return td.getText().strip()\n",
    "    else:\n",
    "        index = td.text.find('♠')\n",
    "        return td.text[index+1:].strip()\n",
    "\n",
    "#finding data from the rows using strip() parsing td\n",
    "data_rows2 = [[text_strip(i, td) for i, td in enumerate(tr.findAll('td'))] for tr in rows2]\n",
    "\n",
    "#create pandas dataframe for easy viewing\n",
    "df_two = pd.DataFrame(data_rows2, columns = head2)\n",
    "df_two"
   ]
  },
  {
   "cell_type": "code",
   "execution_count": 27,
   "id": "54ecab31",
   "metadata": {},
   "outputs": [
    {
     "data": {
      "text/plain": [
       "['Rank', 'Country', 'GDP(US$MM)']"
      ]
     },
     "execution_count": 27,
     "metadata": {},
     "output_type": "execute_result"
    }
   ],
   "source": [
    "#find data frame for first source, separate header using strip extracting 'thead'\n",
    "head3 = [th.getText().strip() for th in d_tables[2][0].findAll('thead')[0].findAll('th')]\n",
    "head3"
   ]
  },
  {
   "cell_type": "code",
   "execution_count": 28,
   "id": "a0949eff",
   "metadata": {},
   "outputs": [
    {
     "data": {
      "text/html": [
       "<div>\n",
       "<style scoped>\n",
       "    .dataframe tbody tr th:only-of-type {\n",
       "        vertical-align: middle;\n",
       "    }\n",
       "\n",
       "    .dataframe tbody tr th {\n",
       "        vertical-align: top;\n",
       "    }\n",
       "\n",
       "    .dataframe thead th {\n",
       "        text-align: right;\n",
       "    }\n",
       "</style>\n",
       "<table border=\"1\" class=\"dataframe\">\n",
       "  <thead>\n",
       "    <tr style=\"text-align: right;\">\n",
       "      <th></th>\n",
       "      <th>Rank</th>\n",
       "      <th>Country</th>\n",
       "      <th>GDP(US$MM)</th>\n",
       "    </tr>\n",
       "  </thead>\n",
       "  <tbody>\n",
       "    <tr>\n",
       "      <th>0</th>\n",
       "      <td>1</td>\n",
       "      <td>United States</td>\n",
       "      <td>18,624,475</td>\n",
       "    </tr>\n",
       "    <tr>\n",
       "      <th>1</th>\n",
       "      <td>2</td>\n",
       "      <td>China[n 4]</td>\n",
       "      <td>11,218,281</td>\n",
       "    </tr>\n",
       "    <tr>\n",
       "      <th>2</th>\n",
       "      <td>3</td>\n",
       "      <td>Japan</td>\n",
       "      <td>4,936,211</td>\n",
       "    </tr>\n",
       "    <tr>\n",
       "      <th>3</th>\n",
       "      <td>4</td>\n",
       "      <td>Germany</td>\n",
       "      <td>3,477,796</td>\n",
       "    </tr>\n",
       "    <tr>\n",
       "      <th>4</th>\n",
       "      <td>5</td>\n",
       "      <td>United Kingdom</td>\n",
       "      <td>2,647,898</td>\n",
       "    </tr>\n",
       "    <tr>\n",
       "      <th>...</th>\n",
       "      <td>...</td>\n",
       "      <td>...</td>\n",
       "      <td>...</td>\n",
       "    </tr>\n",
       "    <tr>\n",
       "      <th>206</th>\n",
       "      <td>207</td>\n",
       "      <td>Marshall Islands</td>\n",
       "      <td>209</td>\n",
       "    </tr>\n",
       "    <tr>\n",
       "      <th>207</th>\n",
       "      <td>208</td>\n",
       "      <td>Nauru</td>\n",
       "      <td>182</td>\n",
       "    </tr>\n",
       "    <tr>\n",
       "      <th>208</th>\n",
       "      <td>209</td>\n",
       "      <td>Kiribati</td>\n",
       "      <td>180</td>\n",
       "    </tr>\n",
       "    <tr>\n",
       "      <th>209</th>\n",
       "      <td>210</td>\n",
       "      <td>Montserrat</td>\n",
       "      <td>63</td>\n",
       "    </tr>\n",
       "    <tr>\n",
       "      <th>210</th>\n",
       "      <td>211</td>\n",
       "      <td>Tuvalu</td>\n",
       "      <td>38</td>\n",
       "    </tr>\n",
       "  </tbody>\n",
       "</table>\n",
       "<p>211 rows × 3 columns</p>\n",
       "</div>"
      ],
      "text/plain": [
       "    Rank           Country  GDP(US$MM)\n",
       "0      1     United States  18,624,475\n",
       "1      2        China[n 4]  11,218,281\n",
       "2      3             Japan   4,936,211\n",
       "3      4           Germany   3,477,796\n",
       "4      5    United Kingdom   2,647,898\n",
       "..   ...               ...         ...\n",
       "206  207  Marshall Islands         209\n",
       "207  208             Nauru         182\n",
       "208  209          Kiribati         180\n",
       "209  210        Montserrat          63\n",
       "210  211            Tuvalu          38\n",
       "\n",
       "[211 rows x 3 columns]"
      ]
     },
     "execution_count": 28,
     "metadata": {},
     "output_type": "execute_result"
    }
   ],
   "source": [
    "#find rows through tbody using findAll\n",
    "rows3 = d_tables[2][0].findAll('tbody')[0].findAll('tr')[1:]\n",
    "\n",
    "#finding data from the rows using text_strip function to ensure unwanted symbol is removed and parsing td\n",
    "data_rows3 = [[text_strip(i, td) for i, td in enumerate(tr.findAll('td'))] for tr in rows3]\n",
    "\n",
    "#create pandas dataframe for easy viewing\n",
    "df_three = pd.DataFrame(data_rows3, columns = head3)\n",
    "df_three"
   ]
  },
  {
   "cell_type": "markdown",
   "id": "204d3620",
   "metadata": {},
   "source": [
    "# Activity 8"
   ]
  },
  {
   "cell_type": "code",
   "execution_count": 29,
   "id": "a09b326d",
   "metadata": {},
   "outputs": [
    {
     "data": {
      "text/html": [
       "<div>\n",
       "<style scoped>\n",
       "    .dataframe tbody tr th:only-of-type {\n",
       "        vertical-align: middle;\n",
       "    }\n",
       "\n",
       "    .dataframe tbody tr th {\n",
       "        vertical-align: top;\n",
       "    }\n",
       "\n",
       "    .dataframe thead th {\n",
       "        text-align: right;\n",
       "    }\n",
       "</style>\n",
       "<table border=\"1\" class=\"dataframe\">\n",
       "  <thead>\n",
       "    <tr style=\"text-align: right;\">\n",
       "      <th></th>\n",
       "      <th>id</th>\n",
       "      <th>first_name</th>\n",
       "      <th>last_name</th>\n",
       "      <th>email</th>\n",
       "      <th>gender</th>\n",
       "      <th>ip_address</th>\n",
       "      <th>visit</th>\n",
       "    </tr>\n",
       "  </thead>\n",
       "  <tbody>\n",
       "    <tr>\n",
       "      <th>0</th>\n",
       "      <td>1</td>\n",
       "      <td>Sonny</td>\n",
       "      <td>Dahl</td>\n",
       "      <td>sdahl0@mysql.com</td>\n",
       "      <td>Male</td>\n",
       "      <td>135.36.96.183</td>\n",
       "      <td>1225.0</td>\n",
       "    </tr>\n",
       "    <tr>\n",
       "      <th>1</th>\n",
       "      <td>2</td>\n",
       "      <td>NaN</td>\n",
       "      <td>NaN</td>\n",
       "      <td>dhoovart1@hud.gov</td>\n",
       "      <td>NaN</td>\n",
       "      <td>237.165.194.143</td>\n",
       "      <td>919.0</td>\n",
       "    </tr>\n",
       "    <tr>\n",
       "      <th>2</th>\n",
       "      <td>3</td>\n",
       "      <td>Gar</td>\n",
       "      <td>Armal</td>\n",
       "      <td>garmal2@technorati.com</td>\n",
       "      <td>NaN</td>\n",
       "      <td>166.43.137.224</td>\n",
       "      <td>271.0</td>\n",
       "    </tr>\n",
       "    <tr>\n",
       "      <th>3</th>\n",
       "      <td>4</td>\n",
       "      <td>Chiarra</td>\n",
       "      <td>Nulty</td>\n",
       "      <td>cnulty3@newyorker.com</td>\n",
       "      <td>NaN</td>\n",
       "      <td>139.98.137.108</td>\n",
       "      <td>1002.0</td>\n",
       "    </tr>\n",
       "    <tr>\n",
       "      <th>4</th>\n",
       "      <td>5</td>\n",
       "      <td>NaN</td>\n",
       "      <td>NaN</td>\n",
       "      <td>sleaver4@elegantthemes.com</td>\n",
       "      <td>NaN</td>\n",
       "      <td>46.117.117.27</td>\n",
       "      <td>2434.0</td>\n",
       "    </tr>\n",
       "  </tbody>\n",
       "</table>\n",
       "</div>"
      ],
      "text/plain": [
       "   id first_name last_name                       email gender  \\\n",
       "0   1      Sonny      Dahl            sdahl0@mysql.com   Male   \n",
       "1   2        NaN       NaN           dhoovart1@hud.gov    NaN   \n",
       "2   3        Gar     Armal      garmal2@technorati.com    NaN   \n",
       "3   4    Chiarra     Nulty       cnulty3@newyorker.com    NaN   \n",
       "4   5        NaN       NaN  sleaver4@elegantthemes.com    NaN   \n",
       "\n",
       "        ip_address   visit  \n",
       "0    135.36.96.183  1225.0  \n",
       "1  237.165.194.143   919.0  \n",
       "2   166.43.137.224   271.0  \n",
       "3   139.98.137.108  1002.0  \n",
       "4    46.117.117.27  2434.0  "
      ]
     },
     "execution_count": 29,
     "metadata": {},
     "output_type": "execute_result"
    }
   ],
   "source": [
    "#read in csv file\n",
    "visit_df = pd.read_csv('visit_data.csv')\n",
    "visit_df.head()"
   ]
  },
  {
   "cell_type": "code",
   "execution_count": 30,
   "id": "f13ab0ef",
   "metadata": {},
   "outputs": [
    {
     "name": "stdout",
     "output_type": "stream",
     "text": [
      "There are no duplicates in id\n",
      "There are duplicates in first_name\n",
      "There are duplicates in last_name\n",
      "There are no duplicates in email\n",
      "There are duplicates in gender\n",
      "There are no duplicates in ip_address\n",
      "There are duplicates in visit\n"
     ]
    }
   ],
   "source": [
    "#check for duplicates using for loop\n",
    "for columns in visit_df:\n",
    "    if any(visit_df[columns].duplicated()):\n",
    "        print('There are duplicates in', str(columns))\n",
    "    else:\n",
    "        print('There are no duplicates in', str(columns))"
   ]
  },
  {
   "cell_type": "code",
   "execution_count": 31,
   "id": "7ee8ff4b",
   "metadata": {},
   "outputs": [
    {
     "data": {
      "text/plain": [
       "id              0\n",
       "first_name    296\n",
       "last_name     296\n",
       "email           0\n",
       "gender        505\n",
       "ip_address      0\n",
       "visit          26\n",
       "dtype: int64"
      ]
     },
     "execution_count": 31,
     "metadata": {},
     "output_type": "execute_result"
    }
   ],
   "source": [
    "#check if any columns contain NaN\n",
    "visit_df.isna().sum()"
   ]
  },
  {
   "cell_type": "code",
   "execution_count": 32,
   "id": "6f7dde16",
   "metadata": {},
   "outputs": [
    {
     "name": "stdout",
     "output_type": "stream",
     "text": [
      "(1000, 7)\n",
      "(974, 7)\n"
     ]
    }
   ],
   "source": [
    "#remove outliers from visit column\n",
    "before = visit_df.shape\n",
    "\n",
    "visit_df = visit_df[np.isfinite(visit_df['visit'])]\n",
    "\n",
    "after = visit_df.shape\n",
    "\n",
    "print(before) \n",
    "print(after) #report difference of 26 records by printing shapes"
   ]
  },
  {
   "cell_type": "code",
   "execution_count": 33,
   "id": "ee55e58a",
   "metadata": {},
   "outputs": [
    {
     "data": {
      "text/plain": [
       "{'whiskers': [<matplotlib.lines.Line2D at 0x1336c128d90>,\n",
       "  <matplotlib.lines.Line2D at 0x1336c1450a0>],\n",
       " 'caps': [<matplotlib.lines.Line2D at 0x1336c145430>,\n",
       "  <matplotlib.lines.Line2D at 0x1336c1457c0>],\n",
       " 'boxes': [<matplotlib.lines.Line2D at 0x1336c128940>],\n",
       " 'medians': [<matplotlib.lines.Line2D at 0x1336c145b50>],\n",
       " 'fliers': [<matplotlib.lines.Line2D at 0x1336c145ee0>],\n",
       " 'means': []}"
      ]
     },
     "execution_count": 33,
     "metadata": {},
     "output_type": "execute_result"
    },
    {
     "data": {
      "image/png": "[encoded data removed]",
      "text/plain": [
       "<Figure size 432x288 with 1 Axes>"
      ]
     },
     "metadata": {
      "needs_background": "light"
     },
     "output_type": "display_data"
    }
   ],
   "source": [
    "#plot boxplot to visualize outliers\n",
    "plt.boxplot(visit_df['visit'], notch=True)"
   ]
  },
  {
   "cell_type": "code",
   "execution_count": 34,
   "id": "e150acfc",
   "metadata": {},
   "outputs": [
    {
     "data": {
      "text/plain": [
       "864"
      ]
     },
     "execution_count": 34,
     "metadata": {},
     "output_type": "execute_result"
    }
   ],
   "source": [
    "#remove outliers of 2800 and 200 based on boxplot, find count of remaining entries\n",
    "visit_df2 = visit_df[(visit_df['visit'] <= 2800) & (visit_df['visit'] >= 200)]\n",
    "len(visit_df2)"
   ]
  },
  {
   "cell_type": "markdown",
   "id": "1a9109fd",
   "metadata": {},
   "source": [
    "# SQL Lite Database "
   ]
  },
  {
   "cell_type": "code",
   "execution_count": 35,
   "id": "5bf28d69",
   "metadata": {},
   "outputs": [],
   "source": [
    "import sqlite3"
   ]
  },
  {
   "cell_type": "code",
   "execution_count": 36,
   "id": "bfc5542f",
   "metadata": {},
   "outputs": [],
   "source": [
    "#creating query\n",
    "query = \"\"\"\n",
    "CREATE TABLE contact_info_one\n",
    "(Name VARCHAR(40), Address VARCHAR(40),\n",
    "City VARCHAR(40), State VARCHAR(2),\n",
    "Zip_code INTEGER(5), Phone_Number INTEGER(10));\"\"\""
   ]
  },
  {
   "cell_type": "code",
   "execution_count": 45,
   "id": "7a697131",
   "metadata": {},
   "outputs": [],
   "source": [
    "#executing query\n",
    "con = sqlite3.connect('mydata.sqlite')\n",
    "con.execute(query)"
   ]
  },
  {
   "cell_type": "code",
   "execution_count": 38,
   "id": "7ba602b9",
   "metadata": {},
   "outputs": [],
   "source": [
    "#comitting the query\n",
    "con.commit()"
   ]
  },
  {
   "cell_type": "code",
   "execution_count": 39,
   "id": "855ff0be",
   "metadata": {},
   "outputs": [],
   "source": [
    "#creating random data to insert into table\n",
    "data = [('John Doe', \"2236 Layman Avenue\", \"Clinton\", \"NC\", \"28328\", \"9109346062\"),\n",
    "       ('Jane Doe', \"3908 Winifred Way\", \"Richmond\", \"IN\", \"47374\", \"7657258263\"),\n",
    "       (\"Logan Quandt\", \"4643 Star Trek Drive\", \"Destin\", \"FL\", \"32541\", \"8503512029\"),\n",
    "       (\"Kayla Busch\", \"3168 Vine Street\", \"Schaumburg\", \"IL\", \"60173\", \"8476099730\"),\n",
    "       (\"Jeff Doe\", \"2723 Pickens Way\", \"Tyler\", \"TX\", \"75757\", \"9033242737\"),\n",
    "       (\"Bonnie Doe\", \"1657 Pearcy Avenue\", \"Oconomowoc\", \"WI\", \"53066\", \"2622002898\"),\n",
    "       (\"Ryan Doe\", \"3998 Raver Croft Drive\", \"Johnson City\", \"TN\", \"37601\", \"4236473260\"),\n",
    "       (\"Jason Quandt\", \"3091 Fairfax Drive\", \"New Brunswick\", \"NJ\", \"08901\", \"9089476129\"),\n",
    "       (\"Jeffrey Busch\", \"3528 Thompson Street\", \"Gardena\", \"CA\", \"90248\", \"5626599609\"),\n",
    "       (\"John Wayne\", \"121 Bombardier Way\", \"Saline\", \"MI\", \"48176\", \"7349446692\")]"
   ]
  },
  {
   "cell_type": "code",
   "execution_count": 40,
   "id": "10fbdc05",
   "metadata": {},
   "outputs": [],
   "source": [
    "#create statement to insert data\n",
    "stmt = 'INSERT INTO contact_info_one VALUES (?, ?, ?, ?, ?, ?)'"
   ]
  },
  {
   "cell_type": "code",
   "execution_count": 41,
   "id": "1cc00a72",
   "metadata": {},
   "outputs": [
    {
     "data": {
      "text/plain": [
       "<sqlite3.Cursor at 0x1336c1e2d50>"
      ]
     },
     "execution_count": 41,
     "metadata": {},
     "output_type": "execute_result"
    }
   ],
   "source": [
    "#execute insert statement\n",
    "con.executemany(stmt, data)"
   ]
  },
  {
   "cell_type": "code",
   "execution_count": 42,
   "id": "c18a742f",
   "metadata": {},
   "outputs": [],
   "source": [
    "#commit insert statement\n",
    "con.commit()"
   ]
  },
  {
   "cell_type": "code",
   "execution_count": 43,
   "id": "2a9403fc",
   "metadata": {},
   "outputs": [
    {
     "data": {
      "text/plain": [
       "[('John Doe', '2236 Layman Avenue', 'Clinton', 'NC', 28328, 9109346062),\n",
       " ('Jane Doe', '3908 Winifred Way', 'Richmond', 'IN', 47374, 7657258263),\n",
       " ('Logan Quandt', '4643 Star Trek Drive', 'Destin', 'FL', 32541, 8503512029),\n",
       " ('Kayla Busch', '3168 Vine Street', 'Schaumburg', 'IL', 60173, 8476099730),\n",
       " ('Jeff Doe', '2723 Pickens Way', 'Tyler', 'TX', 75757, 9033242737),\n",
       " ('Bonnie Doe', '1657 Pearcy Avenue', 'Oconomowoc', 'WI', 53066, 2622002898),\n",
       " ('Ryan Doe',\n",
       "  '3998 Raver Croft Drive',\n",
       "  'Johnson City',\n",
       "  'TN',\n",
       "  37601,\n",
       "  4236473260),\n",
       " ('Jason Quandt',\n",
       "  '3091 Fairfax Drive',\n",
       "  'New Brunswick',\n",
       "  'NJ',\n",
       "  8901,\n",
       "  9089476129),\n",
       " ('Jeffrey Busch', '3528 Thompson Street', 'Gardena', 'CA', 90248, 5626599609),\n",
       " ('John Wayne', '121 Bombardier Way', 'Saline', 'MI', 48176, 7349446692),\n",
       " ('John Doe', '2236 Layman Avenue', 'Clinton', 'NC', 28328, 9109346062),\n",
       " ('Jane Doe', '3908 Winifred Way', 'Richmond', 'IN', 47374, 7657258263),\n",
       " ('Logan Quandt', '4643 Star Trek Drive', 'Destin', 'FL', 32541, 8503512029),\n",
       " ('Kayla Busch', '3168 Vine Street', 'Schaumburg', 'IL', 60173, 8476099730),\n",
       " ('Jeff Doe', '2723 Pickens Way', 'Tyler', 'TX', 75757, 9033242737),\n",
       " ('Bonnie Doe', '1657 Pearcy Avenue', 'Oconomowoc', 'WI', 53066, 2622002898),\n",
       " ('Ryan Doe',\n",
       "  '3998 Raver Croft Drive',\n",
       "  'Johnson City',\n",
       "  'TN',\n",
       "  37601,\n",
       "  4236473260),\n",
       " ('Jason Quandt',\n",
       "  '3091 Fairfax Drive',\n",
       "  'New Brunswick',\n",
       "  'NJ',\n",
       "  8901,\n",
       "  9089476129),\n",
       " ('Jeffrey Busch', '3528 Thompson Street', 'Gardena', 'CA', 90248, 5626599609),\n",
       " ('John Wayne', '121 Bombardier Way', 'Saline', 'MI', 48176, 7349446692)]"
      ]
     },
     "execution_count": 43,
     "metadata": {},
     "output_type": "execute_result"
    }
   ],
   "source": [
    "#select and display rows\n",
    "cursor = con.execute('SELECT * FROM contact_info_one')\n",
    "rows = cursor.fetchall()\n",
    "rows"
   ]
  },
  {
   "cell_type": "code",
   "execution_count": 44,
   "id": "6bca4161",
   "metadata": {},
   "outputs": [
    {
     "data": {
      "text/html": [
       "<div>\n",
       "<style scoped>\n",
       "    .dataframe tbody tr th:only-of-type {\n",
       "        vertical-align: middle;\n",
       "    }\n",
       "\n",
       "    .dataframe tbody tr th {\n",
       "        vertical-align: top;\n",
       "    }\n",
       "\n",
       "    .dataframe thead th {\n",
       "        text-align: right;\n",
       "    }\n",
       "</style>\n",
       "<table border=\"1\" class=\"dataframe\">\n",
       "  <thead>\n",
       "    <tr style=\"text-align: right;\">\n",
       "      <th></th>\n",
       "      <th>Name</th>\n",
       "      <th>Address</th>\n",
       "      <th>City</th>\n",
       "      <th>State</th>\n",
       "      <th>Zip_code</th>\n",
       "      <th>Phone_Number</th>\n",
       "    </tr>\n",
       "  </thead>\n",
       "  <tbody>\n",
       "    <tr>\n",
       "      <th>0</th>\n",
       "      <td>John Doe</td>\n",
       "      <td>2236 Layman Avenue</td>\n",
       "      <td>Clinton</td>\n",
       "      <td>NC</td>\n",
       "      <td>28328</td>\n",
       "      <td>9109346062</td>\n",
       "    </tr>\n",
       "    <tr>\n",
       "      <th>1</th>\n",
       "      <td>Jane Doe</td>\n",
       "      <td>3908 Winifred Way</td>\n",
       "      <td>Richmond</td>\n",
       "      <td>IN</td>\n",
       "      <td>47374</td>\n",
       "      <td>7657258263</td>\n",
       "    </tr>\n",
       "    <tr>\n",
       "      <th>2</th>\n",
       "      <td>Logan Quandt</td>\n",
       "      <td>4643 Star Trek Drive</td>\n",
       "      <td>Destin</td>\n",
       "      <td>FL</td>\n",
       "      <td>32541</td>\n",
       "      <td>8503512029</td>\n",
       "    </tr>\n",
       "    <tr>\n",
       "      <th>3</th>\n",
       "      <td>Kayla Busch</td>\n",
       "      <td>3168 Vine Street</td>\n",
       "      <td>Schaumburg</td>\n",
       "      <td>IL</td>\n",
       "      <td>60173</td>\n",
       "      <td>8476099730</td>\n",
       "    </tr>\n",
       "    <tr>\n",
       "      <th>4</th>\n",
       "      <td>Jeff Doe</td>\n",
       "      <td>2723 Pickens Way</td>\n",
       "      <td>Tyler</td>\n",
       "      <td>TX</td>\n",
       "      <td>75757</td>\n",
       "      <td>9033242737</td>\n",
       "    </tr>\n",
       "    <tr>\n",
       "      <th>5</th>\n",
       "      <td>Bonnie Doe</td>\n",
       "      <td>1657 Pearcy Avenue</td>\n",
       "      <td>Oconomowoc</td>\n",
       "      <td>WI</td>\n",
       "      <td>53066</td>\n",
       "      <td>2622002898</td>\n",
       "    </tr>\n",
       "    <tr>\n",
       "      <th>6</th>\n",
       "      <td>Ryan Doe</td>\n",
       "      <td>3998 Raver Croft Drive</td>\n",
       "      <td>Johnson City</td>\n",
       "      <td>TN</td>\n",
       "      <td>37601</td>\n",
       "      <td>4236473260</td>\n",
       "    </tr>\n",
       "    <tr>\n",
       "      <th>7</th>\n",
       "      <td>Jason Quandt</td>\n",
       "      <td>3091 Fairfax Drive</td>\n",
       "      <td>New Brunswick</td>\n",
       "      <td>NJ</td>\n",
       "      <td>8901</td>\n",
       "      <td>9089476129</td>\n",
       "    </tr>\n",
       "    <tr>\n",
       "      <th>8</th>\n",
       "      <td>Jeffrey Busch</td>\n",
       "      <td>3528 Thompson Street</td>\n",
       "      <td>Gardena</td>\n",
       "      <td>CA</td>\n",
       "      <td>90248</td>\n",
       "      <td>5626599609</td>\n",
       "    </tr>\n",
       "    <tr>\n",
       "      <th>9</th>\n",
       "      <td>John Wayne</td>\n",
       "      <td>121 Bombardier Way</td>\n",
       "      <td>Saline</td>\n",
       "      <td>MI</td>\n",
       "      <td>48176</td>\n",
       "      <td>7349446692</td>\n",
       "    </tr>\n",
       "    <tr>\n",
       "      <th>10</th>\n",
       "      <td>John Doe</td>\n",
       "      <td>2236 Layman Avenue</td>\n",
       "      <td>Clinton</td>\n",
       "      <td>NC</td>\n",
       "      <td>28328</td>\n",
       "      <td>9109346062</td>\n",
       "    </tr>\n",
       "    <tr>\n",
       "      <th>11</th>\n",
       "      <td>Jane Doe</td>\n",
       "      <td>3908 Winifred Way</td>\n",
       "      <td>Richmond</td>\n",
       "      <td>IN</td>\n",
       "      <td>47374</td>\n",
       "      <td>7657258263</td>\n",
       "    </tr>\n",
       "    <tr>\n",
       "      <th>12</th>\n",
       "      <td>Logan Quandt</td>\n",
       "      <td>4643 Star Trek Drive</td>\n",
       "      <td>Destin</td>\n",
       "      <td>FL</td>\n",
       "      <td>32541</td>\n",
       "      <td>8503512029</td>\n",
       "    </tr>\n",
       "    <tr>\n",
       "      <th>13</th>\n",
       "      <td>Kayla Busch</td>\n",
       "      <td>3168 Vine Street</td>\n",
       "      <td>Schaumburg</td>\n",
       "      <td>IL</td>\n",
       "      <td>60173</td>\n",
       "      <td>8476099730</td>\n",
       "    </tr>\n",
       "    <tr>\n",
       "      <th>14</th>\n",
       "      <td>Jeff Doe</td>\n",
       "      <td>2723 Pickens Way</td>\n",
       "      <td>Tyler</td>\n",
       "      <td>TX</td>\n",
       "      <td>75757</td>\n",
       "      <td>9033242737</td>\n",
       "    </tr>\n",
       "    <tr>\n",
       "      <th>15</th>\n",
       "      <td>Bonnie Doe</td>\n",
       "      <td>1657 Pearcy Avenue</td>\n",
       "      <td>Oconomowoc</td>\n",
       "      <td>WI</td>\n",
       "      <td>53066</td>\n",
       "      <td>2622002898</td>\n",
       "    </tr>\n",
       "    <tr>\n",
       "      <th>16</th>\n",
       "      <td>Ryan Doe</td>\n",
       "      <td>3998 Raver Croft Drive</td>\n",
       "      <td>Johnson City</td>\n",
       "      <td>TN</td>\n",
       "      <td>37601</td>\n",
       "      <td>4236473260</td>\n",
       "    </tr>\n",
       "    <tr>\n",
       "      <th>17</th>\n",
       "      <td>Jason Quandt</td>\n",
       "      <td>3091 Fairfax Drive</td>\n",
       "      <td>New Brunswick</td>\n",
       "      <td>NJ</td>\n",
       "      <td>8901</td>\n",
       "      <td>9089476129</td>\n",
       "    </tr>\n",
       "    <tr>\n",
       "      <th>18</th>\n",
       "      <td>Jeffrey Busch</td>\n",
       "      <td>3528 Thompson Street</td>\n",
       "      <td>Gardena</td>\n",
       "      <td>CA</td>\n",
       "      <td>90248</td>\n",
       "      <td>5626599609</td>\n",
       "    </tr>\n",
       "    <tr>\n",
       "      <th>19</th>\n",
       "      <td>John Wayne</td>\n",
       "      <td>121 Bombardier Way</td>\n",
       "      <td>Saline</td>\n",
       "      <td>MI</td>\n",
       "      <td>48176</td>\n",
       "      <td>7349446692</td>\n",
       "    </tr>\n",
       "  </tbody>\n",
       "</table>\n",
       "</div>"
      ],
      "text/plain": [
       "             Name                 Address           City State  Zip_code  \\\n",
       "0        John Doe      2236 Layman Avenue        Clinton    NC     28328   \n",
       "1        Jane Doe       3908 Winifred Way       Richmond    IN     47374   \n",
       "2    Logan Quandt    4643 Star Trek Drive         Destin    FL     32541   \n",
       "3     Kayla Busch        3168 Vine Street     Schaumburg    IL     60173   \n",
       "4        Jeff Doe        2723 Pickens Way          Tyler    TX     75757   \n",
       "5      Bonnie Doe      1657 Pearcy Avenue     Oconomowoc    WI     53066   \n",
       "6        Ryan Doe  3998 Raver Croft Drive   Johnson City    TN     37601   \n",
       "7    Jason Quandt      3091 Fairfax Drive  New Brunswick    NJ      8901   \n",
       "8   Jeffrey Busch    3528 Thompson Street        Gardena    CA     90248   \n",
       "9      John Wayne      121 Bombardier Way         Saline    MI     48176   \n",
       "10       John Doe      2236 Layman Avenue        Clinton    NC     28328   \n",
       "11       Jane Doe       3908 Winifred Way       Richmond    IN     47374   \n",
       "12   Logan Quandt    4643 Star Trek Drive         Destin    FL     32541   \n",
       "13    Kayla Busch        3168 Vine Street     Schaumburg    IL     60173   \n",
       "14       Jeff Doe        2723 Pickens Way          Tyler    TX     75757   \n",
       "15     Bonnie Doe      1657 Pearcy Avenue     Oconomowoc    WI     53066   \n",
       "16       Ryan Doe  3998 Raver Croft Drive   Johnson City    TN     37601   \n",
       "17   Jason Quandt      3091 Fairfax Drive  New Brunswick    NJ      8901   \n",
       "18  Jeffrey Busch    3528 Thompson Street        Gardena    CA     90248   \n",
       "19     John Wayne      121 Bombardier Way         Saline    MI     48176   \n",
       "\n",
       "    Phone_Number  \n",
       "0     9109346062  \n",
       "1     7657258263  \n",
       "2     8503512029  \n",
       "3     8476099730  \n",
       "4     9033242737  \n",
       "5     2622002898  \n",
       "6     4236473260  \n",
       "7     9089476129  \n",
       "8     5626599609  \n",
       "9     7349446692  \n",
       "10    9109346062  \n",
       "11    7657258263  \n",
       "12    8503512029  \n",
       "13    8476099730  \n",
       "14    9033242737  \n",
       "15    2622002898  \n",
       "16    4236473260  \n",
       "17    9089476129  \n",
       "18    5626599609  \n",
       "19    7349446692  "
      ]
     },
     "execution_count": 44,
     "metadata": {},
     "output_type": "execute_result"
    }
   ],
   "source": [
    "#put the SQL table into a pandas dataframe\n",
    "sql_df = pd.DataFrame(rows, columns=[x[0] for x in cursor.description])\n",
    "sql_df"
   ]
  },
  {
   "cell_type": "code",
   "execution_count": null,
   "id": "74fe61a9",
   "metadata": {},
   "outputs": [],
   "source": []
  }
 ],
 "metadata": {
  "kernelspec": {
   "display_name": "Python 3 (ipykernel)",
   "language": "python",
   "name": "python3"
  },
  "language_info": {
   "codemirror_mode": {
    "name": "ipython",
    "version": 3
   },
   "file_extension": ".py",
   "mimetype": "text/x-python",
   "name": "python",
   "nbconvert_exporter": "python",
   "pygments_lexer": "ipython3",
   "version": "3.9.7"
  }
 },
 "nbformat": 4,
 "nbformat_minor": 5
}
