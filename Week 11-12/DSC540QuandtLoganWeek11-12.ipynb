{
 "cells": [
  {
   "cell_type": "markdown",
   "id": "37ca005f",
   "metadata": {},
   "source": [
    "# DSC 540 Week 11-12"
   ]
  },
  {
   "cell_type": "code",
   "execution_count": 2,
   "id": "3a1dee2d",
   "metadata": {},
   "outputs": [],
   "source": [
    "import pandas as pd\n",
    "import numpy as np\n",
    "import sqlite3"
   ]
  },
  {
   "cell_type": "code",
   "execution_count": 3,
   "id": "2b35ec11",
   "metadata": {},
   "outputs": [],
   "source": [
    "#create connection to petsdb database\n",
    "conn = sqlite3.connect(\"petsdb\")"
   ]
  },
  {
   "cell_type": "code",
   "execution_count": 4,
   "id": "e7f0ba64",
   "metadata": {},
   "outputs": [
    {
     "name": "stdout",
     "output_type": "stream",
     "text": [
      "True\n"
     ]
    }
   ],
   "source": [
    "#create function to check connection\n",
    "def check_conn(conn):\n",
    "    try:\n",
    "        conn.cursor()\n",
    "        return True\n",
    "    except Exception as e:\n",
    "        return False\n",
    "\n",
    "print(check_conn(conn))"
   ]
  },
  {
   "cell_type": "code",
   "execution_count": 5,
   "id": "d7aa2c1d",
   "metadata": {},
   "outputs": [
    {
     "name": "stdout",
     "output_type": "stream",
     "text": [
      "Age: 5 Count - 2\n",
      "Age: 6 Count - 1\n",
      "Age: 7 Count - 1\n",
      "Age: 8 Count - 3\n",
      "Age: 9 Count - 1\n",
      "Age: 11 Count - 2\n",
      "Age: 12 Count - 3\n",
      "Age: 13 Count - 1\n",
      "Age: 14 Count - 4\n",
      "Age: 16 Count - 2\n",
      "Age: 17 Count - 2\n",
      "Age: 18 Count - 3\n",
      "Age: 19 Count - 1\n",
      "Age: 22 Count - 3\n",
      "Age: 23 Count - 2\n",
      "Age: 24 Count - 3\n",
      "Age: 25 Count - 2\n",
      "Age: 27 Count - 1\n",
      "Age: 30 Count - 1\n",
      "Age: 31 Count - 3\n",
      "Age: 32 Count - 1\n",
      "Age: 33 Count - 1\n",
      "Age: 34 Count - 2\n",
      "Age: 35 Count - 3\n",
      "Age: 36 Count - 3\n",
      "Age: 37 Count - 1\n",
      "Age: 39 Count - 2\n",
      "Age: 40 Count - 1\n",
      "Age: 42 Count - 1\n",
      "Age: 44 Count - 2\n",
      "Age: 48 Count - 2\n",
      "Age: 49 Count - 1\n",
      "Age: 50 Count - 1\n",
      "Age: 51 Count - 2\n",
      "Age: 52 Count - 2\n",
      "Age: 53 Count - 2\n",
      "Age: 54 Count - 2\n",
      "Age: 58 Count - 1\n",
      "Age: 59 Count - 1\n",
      "Age: 60 Count - 1\n",
      "Age: 61 Count - 1\n",
      "Age: 62 Count - 2\n",
      "Age: 63 Count - 1\n",
      "Age: 65 Count - 2\n",
      "Age: 66 Count - 2\n",
      "Age: 67 Count - 1\n",
      "Age: 68 Count - 3\n",
      "Age: 69 Count - 1\n",
      "Age: 70 Count - 1\n",
      "Age: 71 Count - 4\n",
      "Age: 72 Count - 1\n",
      "Age: 73 Count - 5\n",
      "Age: 74 Count - 3\n"
     ]
    }
   ],
   "source": [
    "#create cursor and find the different age groups in persons database\n",
    "cursor = conn.cursor() \n",
    "for people, age in cursor.execute(\"SELECT count(*), age FROM persons GROUP BY age\"):\n",
    "    print(\"Age:\", age,\"Count -\", people)"
   ]
  },
  {
   "cell_type": "code",
   "execution_count": 6,
   "id": "cd3f1794",
   "metadata": {},
   "outputs": [
    {
     "name": "stdout",
     "output_type": "stream",
     "text": [
      "Age: 73 Count - 5\n",
      "Age: 71 Count - 4\n",
      "Age: 14 Count - 4\n",
      "Age: 74 Count - 3\n",
      "Age: 68 Count - 3\n",
      "Age: 36 Count - 3\n",
      "Age: 35 Count - 3\n",
      "Age: 31 Count - 3\n",
      "Age: 24 Count - 3\n",
      "Age: 22 Count - 3\n",
      "Age: 18 Count - 3\n",
      "Age: 12 Count - 3\n",
      "Age: 8 Count - 3\n",
      "Age: 66 Count - 2\n",
      "Age: 65 Count - 2\n",
      "Age: 62 Count - 2\n",
      "Age: 54 Count - 2\n",
      "Age: 53 Count - 2\n",
      "Age: 52 Count - 2\n",
      "Age: 51 Count - 2\n",
      "Age: 48 Count - 2\n",
      "Age: 44 Count - 2\n",
      "Age: 39 Count - 2\n",
      "Age: 34 Count - 2\n",
      "Age: 25 Count - 2\n",
      "Age: 23 Count - 2\n",
      "Age: 17 Count - 2\n",
      "Age: 16 Count - 2\n",
      "Age: 11 Count - 2\n",
      "Age: 5 Count - 2\n",
      "Age: 72 Count - 1\n",
      "Age: 70 Count - 1\n",
      "Age: 69 Count - 1\n",
      "Age: 67 Count - 1\n",
      "Age: 63 Count - 1\n",
      "Age: 61 Count - 1\n",
      "Age: 60 Count - 1\n",
      "Age: 59 Count - 1\n",
      "Age: 58 Count - 1\n",
      "Age: 50 Count - 1\n",
      "Age: 49 Count - 1\n",
      "Age: 42 Count - 1\n",
      "Age: 40 Count - 1\n",
      "Age: 37 Count - 1\n",
      "Age: 33 Count - 1\n",
      "Age: 32 Count - 1\n",
      "Age: 30 Count - 1\n",
      "Age: 27 Count - 1\n",
      "Age: 19 Count - 1\n",
      "Age: 13 Count - 1\n",
      "Age: 9 Count - 1\n",
      "Age: 7 Count - 1\n",
      "Age: 6 Count - 1\n"
     ]
    }
   ],
   "source": [
    "#Find the age group with maximum number of people using ORDER BY\n",
    "for people, age in cursor.execute(\"SELECT count(*), age FROM persons GROUP BY age ORDER BY count(*) DESC\"):\n",
    "    print(\"Age:\", age,\"Count -\", people)"
   ]
  },
  {
   "cell_type": "code",
   "execution_count": 7,
   "id": "87e483b5",
   "metadata": {},
   "outputs": [
    {
     "name": "stdout",
     "output_type": "stream",
     "text": [
      "First Name: Erica\n",
      "First Name: Jordi\n",
      "First Name: Chasity\n",
      "First Name: Gregg\n",
      "First Name: Cary\n",
      "First Name: Francisca\n",
      "First Name: Raleigh\n",
      "First Name: Maria\n",
      "First Name: Mariane\n",
      "First Name: Mona\n",
      "First Name: Kayla\n",
      "First Name: Karlie\n",
      "First Name: Morris\n",
      "First Name: Sandy\n",
      "First Name: Hector\n",
      "First Name: Hiram\n",
      "First Name: Tressa\n",
      "First Name: Berry\n",
      "First Name: Pearline\n",
      "First Name: Maynard\n",
      "First Name: Dorian\n",
      "First Name: Mylene\n",
      "First Name: Lafayette\n",
      "First Name: Tara\n",
      "First Name: Destiny\n",
      "First Name: Lesly\n",
      "First Name: Perry\n",
      "First Name: Maritza\n",
      "First Name: Grant\n",
      "First Name: Laury\n",
      "First Name: Name\n",
      "First Name: Estefania\n",
      "First Name: Destiney\n",
      "First Name: Jaquelin\n",
      "First Name: Alfonzo\n",
      "First Name: Lisandro\n",
      "First Name: Priscilla\n",
      "First Name: Elenora\n",
      "First Name: Rudolph\n",
      "First Name: Ona\n",
      "First Name: Rebeca\n",
      "First Name: Sigurd\n",
      "First Name: Alice\n",
      "First Name: Dane\n",
      "First Name: Judge\n",
      "First Name: Allene\n",
      "First Name: Jalen\n",
      "First Name: Myron\n",
      "First Name: Travon\n",
      "First Name: Shayna\n",
      "First Name: Myah\n",
      "First Name: Letha\n",
      "First Name: Felton\n",
      "First Name: London\n",
      "First Name: Koby\n",
      "First Name: Golden\n",
      "First Name: Anissa\n",
      "First Name: Sid\n",
      "First Name: Ernesto\n",
      "First Name: Josianne\n"
     ]
    }
   ],
   "source": [
    "#Find the names of people missing last names\n",
    "for name in cursor.execute('SELECT first_name FROM persons WHERE last_name is null'):\n",
    "    print(\"First Name:\", name[0])"
   ]
  },
  {
   "cell_type": "code",
   "execution_count": 8,
   "id": "5ea3322d",
   "metadata": {},
   "outputs": [
    {
     "name": "stdout",
     "output_type": "stream",
     "text": [
      "Number of owners with more than 1 pet: 43\n"
     ]
    }
   ],
   "source": [
    "#Find number of people with more than one pet\n",
    "for owner_id in cursor.execute('SELECT count (*) FROM (SELECT count (owner_ID) FROM pets GROUP BY owner_ID HAVING count(owner_ID) > 1)'):\n",
    "    print(\"Number of owners with more than 1 pet:\", owner_id[0])"
   ]
  },
  {
   "cell_type": "code",
   "execution_count": 9,
   "id": "ad2ea532",
   "metadata": {},
   "outputs": [
    {
     "name": "stdout",
     "output_type": "stream",
     "text": [
      "Pets that have received treatment: 36\n"
     ]
    }
   ],
   "source": [
    "#Find the number of pets who have received treatment\n",
    "for pet in cursor.execute(\"SELECT count(*) FROM pets WHERE treatment_done = 1\"):\n",
    "    print(\"Pets that have received treatment:\", pet[0])"
   ]
  },
  {
   "cell_type": "code",
   "execution_count": 10,
   "id": "e69815a0",
   "metadata": {},
   "outputs": [
    {
     "name": "stdout",
     "output_type": "stream",
     "text": [
      "Treatment Done and Pet type known: 16\n"
     ]
    }
   ],
   "source": [
    "#Find the number of pets who have received treatment and pet type is known\n",
    "for pet in cursor.execute(\"SELECT count(*) FROM pets WHERE treatment_done = 1 AND pet_type IS NOT null\"):\n",
    "    print(\"Treatment Done and Pet type known:\", pet[0])"
   ]
  },
  {
   "cell_type": "code",
   "execution_count": 11,
   "id": "86cbbc90",
   "metadata": {},
   "outputs": [
    {
     "name": "stdout",
     "output_type": "stream",
     "text": [
      "Pets in East Port: 49\n"
     ]
    }
   ],
   "source": [
    "#Find the number of pets in East Port\n",
    "for pet in cursor.execute('SELECT count(*) from pets JOIN persons ON pets.owner_id = persons.id WHERE persons.city = \"east port\"'):\n",
    "    print(\"Pets in East Port:\", pet[0])"
   ]
  },
  {
   "cell_type": "code",
   "execution_count": 12,
   "id": "f2edfec3",
   "metadata": {},
   "outputs": [
    {
     "name": "stdout",
     "output_type": "stream",
     "text": [
      "Pet in East Port and treatment done: 11\n"
     ]
    }
   ],
   "source": [
    "#Find the number of pets in East Port who have received treatment\n",
    "for pet in cursor.execute('SELECT count(*) from pets JOIN persons ON pets.owner_id = persons.id WHERE persons.city = \"east port\" AND treatment_done = 1'):\n",
    "    print(\"Pet in East Port and treatment done:\", pet[0])"
   ]
  },
  {
   "cell_type": "code",
   "execution_count": 13,
   "id": "54d86c1f",
   "metadata": {},
   "outputs": [],
   "source": [
    "#close connection\n",
    "conn.close()"
   ]
  }
 ],
 "metadata": {
  "kernelspec": {
   "display_name": "Python 3 (ipykernel)",
   "language": "python",
   "name": "python3"
  },
  "language_info": {
   "codemirror_mode": {
    "name": "ipython",
    "version": 3
   },
   "file_extension": ".py",
   "mimetype": "text/x-python",
   "name": "python",
   "nbconvert_exporter": "python",
   "pygments_lexer": "ipython3",
   "version": "3.9.7"
  }
 },
 "nbformat": 4,
 "nbformat_minor": 5
}
