{
 "cells": [
  {
   "cell_type": "markdown",
   "id": "7d7f6727",
   "metadata": {},
   "source": [
    "# DSC 540 Project Milestone 4"
   ]
  },
  {
   "cell_type": "markdown",
   "id": "cfabdf6f",
   "metadata": {},
   "source": [
    "Logan Quandt"
   ]
  },
  {
   "cell_type": "code",
   "execution_count": 464,
   "id": "919fa6a6",
   "metadata": {},
   "outputs": [],
   "source": [
    "import pandas as pd\n",
    "import numpy as np\n",
    "import matplotlib.pyplot as plt\n",
    "from bs4 import BeautifulSoup\n",
    "import requests\n",
    "import json\n",
    "import os\n",
    "import urllib.request\n",
    "import glom"
   ]
  },
  {
   "cell_type": "code",
   "execution_count": 873,
   "id": "a9faf028",
   "metadata": {},
   "outputs": [],
   "source": [
    "#define URL and open using urllib.request\n",
    "url = \"https://restcountries.com/v2/all\"\n",
    "response = urllib.request.urlopen(url)"
   ]
  },
  {
   "cell_type": "code",
   "execution_count": 874,
   "id": "b997a006",
   "metadata": {},
   "outputs": [],
   "source": [
    "#read and decode response\n",
    "data = response.read().decode()"
   ]
  },
  {
   "cell_type": "code",
   "execution_count": 875,
   "id": "a24d22c5",
   "metadata": {},
   "outputs": [],
   "source": [
    "#convert JSON to dict using JSON load\n",
    "data_json = json.loads(data)"
   ]
  },
  {
   "cell_type": "markdown",
   "id": "2636b803",
   "metadata": {},
   "source": [
    "# 1: Format data into a more readable format"
   ]
  },
  {
   "cell_type": "code",
   "execution_count": 876,
   "id": "568d7541",
   "metadata": {},
   "outputs": [
    {
     "data": {
      "text/html": [
       "<div>\n",
       "<style scoped>\n",
       "    .dataframe tbody tr th:only-of-type {\n",
       "        vertical-align: middle;\n",
       "    }\n",
       "\n",
       "    .dataframe tbody tr th {\n",
       "        vertical-align: top;\n",
       "    }\n",
       "\n",
       "    .dataframe thead th {\n",
       "        text-align: right;\n",
       "    }\n",
       "</style>\n",
       "<table border=\"1\" class=\"dataframe\">\n",
       "  <thead>\n",
       "    <tr style=\"text-align: right;\">\n",
       "      <th></th>\n",
       "      <th>name</th>\n",
       "      <th>topLevelDomain</th>\n",
       "      <th>alpha2Code</th>\n",
       "      <th>alpha3Code</th>\n",
       "      <th>callingCodes</th>\n",
       "      <th>capital</th>\n",
       "      <th>altSpellings</th>\n",
       "      <th>subregion</th>\n",
       "      <th>region</th>\n",
       "      <th>population</th>\n",
       "      <th>...</th>\n",
       "      <th>translations.nl</th>\n",
       "      <th>translations.hr</th>\n",
       "      <th>translations.fa</th>\n",
       "      <th>translations.de</th>\n",
       "      <th>translations.es</th>\n",
       "      <th>translations.fr</th>\n",
       "      <th>translations.ja</th>\n",
       "      <th>translations.it</th>\n",
       "      <th>translations.hu</th>\n",
       "      <th>gini</th>\n",
       "    </tr>\n",
       "  </thead>\n",
       "  <tbody>\n",
       "    <tr>\n",
       "      <th>0</th>\n",
       "      <td>Afghanistan</td>\n",
       "      <td>[.af]</td>\n",
       "      <td>AF</td>\n",
       "      <td>AFG</td>\n",
       "      <td>[93]</td>\n",
       "      <td>Kabul</td>\n",
       "      <td>[AF, Afġānistān]</td>\n",
       "      <td>Southern Asia</td>\n",
       "      <td>Asia</td>\n",
       "      <td>40218234</td>\n",
       "      <td>...</td>\n",
       "      <td>Afghanistan</td>\n",
       "      <td>Afganistan</td>\n",
       "      <td>افغانستان</td>\n",
       "      <td>Afghanistan</td>\n",
       "      <td>Afganistán</td>\n",
       "      <td>Afghanistan</td>\n",
       "      <td>アフガニスタン</td>\n",
       "      <td>Afghanistan</td>\n",
       "      <td>Afganisztán</td>\n",
       "      <td>NaN</td>\n",
       "    </tr>\n",
       "    <tr>\n",
       "      <th>1</th>\n",
       "      <td>Åland Islands</td>\n",
       "      <td>[.ax]</td>\n",
       "      <td>AX</td>\n",
       "      <td>ALA</td>\n",
       "      <td>[358]</td>\n",
       "      <td>Mariehamn</td>\n",
       "      <td>[AX, Aaland, Aland, Ahvenanmaa]</td>\n",
       "      <td>Northern Europe</td>\n",
       "      <td>Europe</td>\n",
       "      <td>28875</td>\n",
       "      <td>...</td>\n",
       "      <td>Ålandeilanden</td>\n",
       "      <td>Ålandski otoci</td>\n",
       "      <td>جزایر الند</td>\n",
       "      <td>Åland</td>\n",
       "      <td>Alandia</td>\n",
       "      <td>Åland</td>\n",
       "      <td>オーランド諸島</td>\n",
       "      <td>Isole Aland</td>\n",
       "      <td>Åland-szigetek</td>\n",
       "      <td>NaN</td>\n",
       "    </tr>\n",
       "    <tr>\n",
       "      <th>2</th>\n",
       "      <td>Albania</td>\n",
       "      <td>[.al]</td>\n",
       "      <td>AL</td>\n",
       "      <td>ALB</td>\n",
       "      <td>[355]</td>\n",
       "      <td>Tirana</td>\n",
       "      <td>[AL, Shqipëri, Shqipëria, Shqipnia]</td>\n",
       "      <td>Southern Europe</td>\n",
       "      <td>Europe</td>\n",
       "      <td>2837743</td>\n",
       "      <td>...</td>\n",
       "      <td>Albanië</td>\n",
       "      <td>Albanija</td>\n",
       "      <td>آلبانی</td>\n",
       "      <td>Albanien</td>\n",
       "      <td>Albania</td>\n",
       "      <td>Albanie</td>\n",
       "      <td>アルバニア</td>\n",
       "      <td>Albania</td>\n",
       "      <td>Albánia</td>\n",
       "      <td>33.2</td>\n",
       "    </tr>\n",
       "    <tr>\n",
       "      <th>3</th>\n",
       "      <td>Algeria</td>\n",
       "      <td>[.dz]</td>\n",
       "      <td>DZ</td>\n",
       "      <td>DZA</td>\n",
       "      <td>[213]</td>\n",
       "      <td>Algiers</td>\n",
       "      <td>[DZ, Dzayer, Algérie]</td>\n",
       "      <td>Northern Africa</td>\n",
       "      <td>Africa</td>\n",
       "      <td>44700000</td>\n",
       "      <td>...</td>\n",
       "      <td>Algerije</td>\n",
       "      <td>Alžir</td>\n",
       "      <td>الجزایر</td>\n",
       "      <td>Algerien</td>\n",
       "      <td>Argelia</td>\n",
       "      <td>Algérie</td>\n",
       "      <td>アルジェリア</td>\n",
       "      <td>Algeria</td>\n",
       "      <td>Algéria</td>\n",
       "      <td>27.6</td>\n",
       "    </tr>\n",
       "    <tr>\n",
       "      <th>4</th>\n",
       "      <td>American Samoa</td>\n",
       "      <td>[.as]</td>\n",
       "      <td>AS</td>\n",
       "      <td>ASM</td>\n",
       "      <td>[1]</td>\n",
       "      <td>Pago Pago</td>\n",
       "      <td>[AS, Amerika Sāmoa, Amelika Sāmoa, Sāmoa Amelika]</td>\n",
       "      <td>Polynesia</td>\n",
       "      <td>Oceania</td>\n",
       "      <td>55197</td>\n",
       "      <td>...</td>\n",
       "      <td>Amerikaans Samoa</td>\n",
       "      <td>Američka Samoa</td>\n",
       "      <td>ساموآی آمریکا</td>\n",
       "      <td>Amerikanisch-Samoa</td>\n",
       "      <td>Samoa Americana</td>\n",
       "      <td>Samoa américaines</td>\n",
       "      <td>アメリカ領サモア</td>\n",
       "      <td>Samoa Americane</td>\n",
       "      <td>Amerikai Szamoa</td>\n",
       "      <td>NaN</td>\n",
       "    </tr>\n",
       "  </tbody>\n",
       "</table>\n",
       "<p>5 rows × 37 columns</p>\n",
       "</div>"
      ],
      "text/plain": [
       "             name topLevelDomain alpha2Code alpha3Code callingCodes  \\\n",
       "0     Afghanistan          [.af]         AF        AFG         [93]   \n",
       "1   Åland Islands          [.ax]         AX        ALA        [358]   \n",
       "2         Albania          [.al]         AL        ALB        [355]   \n",
       "3         Algeria          [.dz]         DZ        DZA        [213]   \n",
       "4  American Samoa          [.as]         AS        ASM          [1]   \n",
       "\n",
       "     capital                                       altSpellings  \\\n",
       "0      Kabul                                   [AF, Afġānistān]   \n",
       "1  Mariehamn                    [AX, Aaland, Aland, Ahvenanmaa]   \n",
       "2     Tirana                [AL, Shqipëri, Shqipëria, Shqipnia]   \n",
       "3    Algiers                              [DZ, Dzayer, Algérie]   \n",
       "4  Pago Pago  [AS, Amerika Sāmoa, Amelika Sāmoa, Sāmoa Amelika]   \n",
       "\n",
       "         subregion   region  population  ...   translations.nl  \\\n",
       "0    Southern Asia     Asia    40218234  ...       Afghanistan   \n",
       "1  Northern Europe   Europe       28875  ...     Ålandeilanden   \n",
       "2  Southern Europe   Europe     2837743  ...           Albanië   \n",
       "3  Northern Africa   Africa    44700000  ...          Algerije   \n",
       "4        Polynesia  Oceania       55197  ...  Amerikaans Samoa   \n",
       "\n",
       "  translations.hr  translations.fa     translations.de  translations.es  \\\n",
       "0      Afganistan        افغانستان         Afghanistan       Afganistán   \n",
       "1  Ålandski otoci       جزایر الند               Åland          Alandia   \n",
       "2        Albanija           آلبانی            Albanien          Albania   \n",
       "3           Alžir          الجزایر            Algerien          Argelia   \n",
       "4  Američka Samoa    ساموآی آمریکا  Amerikanisch-Samoa  Samoa Americana   \n",
       "\n",
       "     translations.fr translations.ja  translations.it  translations.hu  gini  \n",
       "0        Afghanistan         アフガニスタン      Afghanistan      Afganisztán   NaN  \n",
       "1              Åland         オーランド諸島      Isole Aland   Åland-szigetek   NaN  \n",
       "2            Albanie           アルバニア          Albania          Albánia  33.2  \n",
       "3            Algérie          アルジェリア          Algeria          Algéria  27.6  \n",
       "4  Samoa américaines        アメリカ領サモア  Samoa Americane  Amerikai Szamoa   NaN  \n",
       "\n",
       "[5 rows x 37 columns]"
      ]
     },
     "execution_count": 876,
     "metadata": {},
     "output_type": "execute_result"
    }
   ],
   "source": [
    "#convert JSON data to Pandas Dataframe for readability\n",
    "df = pd.json_normalize(data_json)\n",
    "df.head()"
   ]
  },
  {
   "cell_type": "code",
   "execution_count": 877,
   "id": "bff2261c",
   "metadata": {},
   "outputs": [],
   "source": [
    "#drop unneeded columns to make dataframe cleaner and easier to work with\n",
    "df = df.drop(['topLevelDomain', 'alpha2Code', \"alpha3Code\", \"callingCodes\", \"altSpellings\", 'population', 'demonym'], axis=1)\n",
    "df = df.drop(['numericCode', 'translations.pt', 'translations.nl', 'translations.hr'], axis=1)\n",
    "df = df.drop(['translations.fa', 'translations.de', 'translations.es', 'translations.fr', 'translations.ja', 'translations.it', 'translations.hu'], axis=1)\n",
    "df = df.drop (['timezones', 'borders', 'flags.png', 'flags.svg', 'nativeName', 'flag','regionalBlocs', 'translations.br','currencies',\"languages\"], axis=1)"
   ]
  },
  {
   "cell_type": "code",
   "execution_count": 878,
   "id": "a04b4d69",
   "metadata": {},
   "outputs": [
    {
     "data": {
      "text/html": [
       "<div>\n",
       "<style scoped>\n",
       "    .dataframe tbody tr th:only-of-type {\n",
       "        vertical-align: middle;\n",
       "    }\n",
       "\n",
       "    .dataframe tbody tr th {\n",
       "        vertical-align: top;\n",
       "    }\n",
       "\n",
       "    .dataframe thead th {\n",
       "        text-align: right;\n",
       "    }\n",
       "</style>\n",
       "<table border=\"1\" class=\"dataframe\">\n",
       "  <thead>\n",
       "    <tr style=\"text-align: right;\">\n",
       "      <th></th>\n",
       "      <th>name</th>\n",
       "      <th>capital</th>\n",
       "      <th>subregion</th>\n",
       "      <th>region</th>\n",
       "      <th>latlng</th>\n",
       "      <th>area</th>\n",
       "      <th>cioc</th>\n",
       "      <th>independent</th>\n",
       "      <th>gini</th>\n",
       "    </tr>\n",
       "  </thead>\n",
       "  <tbody>\n",
       "    <tr>\n",
       "      <th>0</th>\n",
       "      <td>Afghanistan</td>\n",
       "      <td>Kabul</td>\n",
       "      <td>Southern Asia</td>\n",
       "      <td>Asia</td>\n",
       "      <td>[33.0, 65.0]</td>\n",
       "      <td>652230.0</td>\n",
       "      <td>AFG</td>\n",
       "      <td>True</td>\n",
       "      <td>NaN</td>\n",
       "    </tr>\n",
       "    <tr>\n",
       "      <th>1</th>\n",
       "      <td>Åland Islands</td>\n",
       "      <td>Mariehamn</td>\n",
       "      <td>Northern Europe</td>\n",
       "      <td>Europe</td>\n",
       "      <td>[60.116667, 19.9]</td>\n",
       "      <td>1580.0</td>\n",
       "      <td>NaN</td>\n",
       "      <td>False</td>\n",
       "      <td>NaN</td>\n",
       "    </tr>\n",
       "    <tr>\n",
       "      <th>2</th>\n",
       "      <td>Albania</td>\n",
       "      <td>Tirana</td>\n",
       "      <td>Southern Europe</td>\n",
       "      <td>Europe</td>\n",
       "      <td>[41.0, 20.0]</td>\n",
       "      <td>28748.0</td>\n",
       "      <td>ALB</td>\n",
       "      <td>True</td>\n",
       "      <td>33.2</td>\n",
       "    </tr>\n",
       "    <tr>\n",
       "      <th>3</th>\n",
       "      <td>Algeria</td>\n",
       "      <td>Algiers</td>\n",
       "      <td>Northern Africa</td>\n",
       "      <td>Africa</td>\n",
       "      <td>[28.0, 3.0]</td>\n",
       "      <td>2381741.0</td>\n",
       "      <td>ALG</td>\n",
       "      <td>True</td>\n",
       "      <td>27.6</td>\n",
       "    </tr>\n",
       "    <tr>\n",
       "      <th>4</th>\n",
       "      <td>American Samoa</td>\n",
       "      <td>Pago Pago</td>\n",
       "      <td>Polynesia</td>\n",
       "      <td>Oceania</td>\n",
       "      <td>[-14.33333333, -170.0]</td>\n",
       "      <td>199.0</td>\n",
       "      <td>ASA</td>\n",
       "      <td>False</td>\n",
       "      <td>NaN</td>\n",
       "    </tr>\n",
       "    <tr>\n",
       "      <th>...</th>\n",
       "      <td>...</td>\n",
       "      <td>...</td>\n",
       "      <td>...</td>\n",
       "      <td>...</td>\n",
       "      <td>...</td>\n",
       "      <td>...</td>\n",
       "      <td>...</td>\n",
       "      <td>...</td>\n",
       "      <td>...</td>\n",
       "    </tr>\n",
       "    <tr>\n",
       "      <th>245</th>\n",
       "      <td>Wallis and Futuna</td>\n",
       "      <td>Mata-Utu</td>\n",
       "      <td>Polynesia</td>\n",
       "      <td>Oceania</td>\n",
       "      <td>[-13.3, -176.2]</td>\n",
       "      <td>142.0</td>\n",
       "      <td>NaN</td>\n",
       "      <td>False</td>\n",
       "      <td>NaN</td>\n",
       "    </tr>\n",
       "    <tr>\n",
       "      <th>246</th>\n",
       "      <td>Western Sahara</td>\n",
       "      <td>El Aaiún</td>\n",
       "      <td>Northern Africa</td>\n",
       "      <td>Africa</td>\n",
       "      <td>[24.5, -13.0]</td>\n",
       "      <td>266000.0</td>\n",
       "      <td>NaN</td>\n",
       "      <td>False</td>\n",
       "      <td>NaN</td>\n",
       "    </tr>\n",
       "    <tr>\n",
       "      <th>247</th>\n",
       "      <td>Yemen</td>\n",
       "      <td>Sana'a</td>\n",
       "      <td>Western Asia</td>\n",
       "      <td>Asia</td>\n",
       "      <td>[15.0, 48.0]</td>\n",
       "      <td>527968.0</td>\n",
       "      <td>YEM</td>\n",
       "      <td>True</td>\n",
       "      <td>36.7</td>\n",
       "    </tr>\n",
       "    <tr>\n",
       "      <th>248</th>\n",
       "      <td>Zambia</td>\n",
       "      <td>Lusaka</td>\n",
       "      <td>Eastern Africa</td>\n",
       "      <td>Africa</td>\n",
       "      <td>[-15.0, 30.0]</td>\n",
       "      <td>752618.0</td>\n",
       "      <td>ZAM</td>\n",
       "      <td>True</td>\n",
       "      <td>57.1</td>\n",
       "    </tr>\n",
       "    <tr>\n",
       "      <th>249</th>\n",
       "      <td>Zimbabwe</td>\n",
       "      <td>Harare</td>\n",
       "      <td>Southern Africa</td>\n",
       "      <td>Africa</td>\n",
       "      <td>[-20.0, 30.0]</td>\n",
       "      <td>390757.0</td>\n",
       "      <td>ZIM</td>\n",
       "      <td>True</td>\n",
       "      <td>50.3</td>\n",
       "    </tr>\n",
       "  </tbody>\n",
       "</table>\n",
       "<p>250 rows × 9 columns</p>\n",
       "</div>"
      ],
      "text/plain": [
       "                  name    capital        subregion   region  \\\n",
       "0          Afghanistan      Kabul    Southern Asia     Asia   \n",
       "1        Åland Islands  Mariehamn  Northern Europe   Europe   \n",
       "2              Albania     Tirana  Southern Europe   Europe   \n",
       "3              Algeria    Algiers  Northern Africa   Africa   \n",
       "4       American Samoa  Pago Pago        Polynesia  Oceania   \n",
       "..                 ...        ...              ...      ...   \n",
       "245  Wallis and Futuna   Mata-Utu        Polynesia  Oceania   \n",
       "246     Western Sahara   El Aaiún  Northern Africa   Africa   \n",
       "247              Yemen     Sana'a     Western Asia     Asia   \n",
       "248             Zambia     Lusaka   Eastern Africa   Africa   \n",
       "249           Zimbabwe     Harare  Southern Africa   Africa   \n",
       "\n",
       "                     latlng       area cioc  independent  gini  \n",
       "0              [33.0, 65.0]   652230.0  AFG         True   NaN  \n",
       "1         [60.116667, 19.9]     1580.0  NaN        False   NaN  \n",
       "2              [41.0, 20.0]    28748.0  ALB         True  33.2  \n",
       "3               [28.0, 3.0]  2381741.0  ALG         True  27.6  \n",
       "4    [-14.33333333, -170.0]      199.0  ASA        False   NaN  \n",
       "..                      ...        ...  ...          ...   ...  \n",
       "245         [-13.3, -176.2]      142.0  NaN        False   NaN  \n",
       "246           [24.5, -13.0]   266000.0  NaN        False   NaN  \n",
       "247            [15.0, 48.0]   527968.0  YEM         True  36.7  \n",
       "248           [-15.0, 30.0]   752618.0  ZAM         True  57.1  \n",
       "249           [-20.0, 30.0]   390757.0  ZIM         True  50.3  \n",
       "\n",
       "[250 rows x 9 columns]"
      ]
     },
     "execution_count": 878,
     "metadata": {},
     "output_type": "execute_result"
    }
   ],
   "source": [
    "#view dataframe to ensure unwanted columns were dropped\n",
    "df"
   ]
  },
  {
   "cell_type": "markdown",
   "id": "bbd04247",
   "metadata": {},
   "source": [
    "# 2: Identify outliers and bad data"
   ]
  },
  {
   "cell_type": "code",
   "execution_count": 879,
   "id": "e95114eb",
   "metadata": {},
   "outputs": [
    {
     "data": {
      "text/plain": [
       "(250, 9)"
      ]
     },
     "execution_count": 879,
     "metadata": {},
     "output_type": "execute_result"
    }
   ],
   "source": [
    "#check shape of dataframe before identifying bad data\n",
    "df.shape"
   ]
  },
  {
   "cell_type": "code",
   "execution_count": 880,
   "id": "ce3dfc4e",
   "metadata": {},
   "outputs": [
    {
     "data": {
      "text/plain": [
       "name            0\n",
       "capital         5\n",
       "subregion       0\n",
       "region          0\n",
       "latlng          1\n",
       "area           10\n",
       "cioc           45\n",
       "independent     0\n",
       "gini           83\n",
       "dtype: int64"
      ]
     },
     "execution_count": 880,
     "metadata": {},
     "output_type": "execute_result"
    }
   ],
   "source": [
    "#get count of NAs by column\n",
    "df.isna().sum()"
   ]
  },
  {
   "cell_type": "code",
   "execution_count": 881,
   "id": "076dc29a",
   "metadata": {},
   "outputs": [],
   "source": [
    "#drop missing data\n",
    "df = df.dropna()"
   ]
  },
  {
   "cell_type": "code",
   "execution_count": 882,
   "id": "8dbc0ff7",
   "metadata": {
    "scrolled": false
   },
   "outputs": [
    {
     "data": {
      "text/plain": [
       "name           0\n",
       "capital        0\n",
       "subregion      0\n",
       "region         0\n",
       "latlng         0\n",
       "area           0\n",
       "cioc           0\n",
       "independent    0\n",
       "gini           0\n",
       "dtype: int64"
      ]
     },
     "execution_count": 882,
     "metadata": {},
     "output_type": "execute_result"
    }
   ],
   "source": [
    "#check sum of NAs reamining after dropping\n",
    "df.isna().sum()"
   ]
  },
  {
   "cell_type": "markdown",
   "id": "39c978e5",
   "metadata": {},
   "source": [
    "# 3: Format data into a more readable format - Fix column with list formatting"
   ]
  },
  {
   "cell_type": "code",
   "execution_count": 883,
   "id": "c1dad6cd",
   "metadata": {
    "scrolled": true
   },
   "outputs": [
    {
     "name": "stdout",
     "output_type": "stream",
     "text": [
      "name           0\n",
      "capital        0\n",
      "subregion      0\n",
      "region         0\n",
      "latlng         0\n",
      "area           0\n",
      "cioc           0\n",
      "independent    0\n",
      "gini           0\n",
      "dtype: int64\n",
      "(165, 9)\n"
     ]
    }
   ],
   "source": [
    "#check sum of NAs remaining\n",
    "print(df.isna().sum())\n",
    "print(df.shape)"
   ]
  },
  {
   "cell_type": "code",
   "execution_count": 884,
   "id": "4ee5d8ba",
   "metadata": {},
   "outputs": [],
   "source": [
    "#split column in list format to two columns\n",
    "split_df = pd.DataFrame(df['latlng'].tolist(), columns=['Latitude', 'Longitude'])"
   ]
  },
  {
   "cell_type": "code",
   "execution_count": 885,
   "id": "3e9b2f77",
   "metadata": {},
   "outputs": [],
   "source": [
    "#concate dataframes together\n",
    "df = pd.concat([df, split_df], axis=1)"
   ]
  },
  {
   "cell_type": "code",
   "execution_count": 886,
   "id": "df8c5129",
   "metadata": {},
   "outputs": [
    {
     "data": {
      "text/html": [
       "<div>\n",
       "<style scoped>\n",
       "    .dataframe tbody tr th:only-of-type {\n",
       "        vertical-align: middle;\n",
       "    }\n",
       "\n",
       "    .dataframe tbody tr th {\n",
       "        vertical-align: top;\n",
       "    }\n",
       "\n",
       "    .dataframe thead th {\n",
       "        text-align: right;\n",
       "    }\n",
       "</style>\n",
       "<table border=\"1\" class=\"dataframe\">\n",
       "  <thead>\n",
       "    <tr style=\"text-align: right;\">\n",
       "      <th></th>\n",
       "      <th>name</th>\n",
       "      <th>capital</th>\n",
       "      <th>subregion</th>\n",
       "      <th>region</th>\n",
       "      <th>area</th>\n",
       "      <th>cioc</th>\n",
       "      <th>independent</th>\n",
       "      <th>gini</th>\n",
       "      <th>Latitude</th>\n",
       "      <th>Longitude</th>\n",
       "    </tr>\n",
       "  </thead>\n",
       "  <tbody>\n",
       "    <tr>\n",
       "      <th>0</th>\n",
       "      <td>NaN</td>\n",
       "      <td>NaN</td>\n",
       "      <td>NaN</td>\n",
       "      <td>NaN</td>\n",
       "      <td>NaN</td>\n",
       "      <td>NaN</td>\n",
       "      <td>NaN</td>\n",
       "      <td>NaN</td>\n",
       "      <td>41.0</td>\n",
       "      <td>20.0</td>\n",
       "    </tr>\n",
       "    <tr>\n",
       "      <th>1</th>\n",
       "      <td>NaN</td>\n",
       "      <td>NaN</td>\n",
       "      <td>NaN</td>\n",
       "      <td>NaN</td>\n",
       "      <td>NaN</td>\n",
       "      <td>NaN</td>\n",
       "      <td>NaN</td>\n",
       "      <td>NaN</td>\n",
       "      <td>28.0</td>\n",
       "      <td>3.0</td>\n",
       "    </tr>\n",
       "    <tr>\n",
       "      <th>2</th>\n",
       "      <td>Albania</td>\n",
       "      <td>Tirana</td>\n",
       "      <td>Southern Europe</td>\n",
       "      <td>Europe</td>\n",
       "      <td>28748.0</td>\n",
       "      <td>ALB</td>\n",
       "      <td>True</td>\n",
       "      <td>33.2</td>\n",
       "      <td>-12.5</td>\n",
       "      <td>18.5</td>\n",
       "    </tr>\n",
       "    <tr>\n",
       "      <th>3</th>\n",
       "      <td>Algeria</td>\n",
       "      <td>Algiers</td>\n",
       "      <td>Northern Africa</td>\n",
       "      <td>Africa</td>\n",
       "      <td>2381741.0</td>\n",
       "      <td>ALG</td>\n",
       "      <td>True</td>\n",
       "      <td>27.6</td>\n",
       "      <td>-34.0</td>\n",
       "      <td>-64.0</td>\n",
       "    </tr>\n",
       "    <tr>\n",
       "      <th>4</th>\n",
       "      <td>NaN</td>\n",
       "      <td>NaN</td>\n",
       "      <td>NaN</td>\n",
       "      <td>NaN</td>\n",
       "      <td>NaN</td>\n",
       "      <td>NaN</td>\n",
       "      <td>NaN</td>\n",
       "      <td>NaN</td>\n",
       "      <td>40.0</td>\n",
       "      <td>45.0</td>\n",
       "    </tr>\n",
       "  </tbody>\n",
       "</table>\n",
       "</div>"
      ],
      "text/plain": [
       "      name  capital        subregion  region       area cioc independent  \\\n",
       "0      NaN      NaN              NaN     NaN        NaN  NaN         NaN   \n",
       "1      NaN      NaN              NaN     NaN        NaN  NaN         NaN   \n",
       "2  Albania   Tirana  Southern Europe  Europe    28748.0  ALB        True   \n",
       "3  Algeria  Algiers  Northern Africa  Africa  2381741.0  ALG        True   \n",
       "4      NaN      NaN              NaN     NaN        NaN  NaN         NaN   \n",
       "\n",
       "   gini  Latitude  Longitude  \n",
       "0   NaN      41.0       20.0  \n",
       "1   NaN      28.0        3.0  \n",
       "2  33.2     -12.5       18.5  \n",
       "3  27.6     -34.0      -64.0  \n",
       "4   NaN      40.0       45.0  "
      ]
     },
     "execution_count": 886,
     "metadata": {},
     "output_type": "execute_result"
    }
   ],
   "source": [
    "#drop latlng column and keep new latitude and longitude columns\n",
    "df = df.drop(['latlng'],axis=1)\n",
    "df.head()"
   ]
  },
  {
   "cell_type": "code",
   "execution_count": 887,
   "id": "7fa15c05",
   "metadata": {},
   "outputs": [],
   "source": [
    "#drop nas after concating\n",
    "df = df.dropna()"
   ]
  },
  {
   "cell_type": "code",
   "execution_count": 888,
   "id": "c1cd129f",
   "metadata": {},
   "outputs": [
    {
     "data": {
      "text/plain": [
       "(107, 10)"
      ]
     },
     "execution_count": 888,
     "metadata": {},
     "output_type": "execute_result"
    }
   ],
   "source": [
    "#check shape after dropping NAs\n",
    "df.shape"
   ]
  },
  {
   "cell_type": "markdown",
   "id": "6469d0db",
   "metadata": {},
   "source": [
    "# 4: Replace Headers"
   ]
  },
  {
   "cell_type": "code",
   "execution_count": 889,
   "id": "7b69cc28",
   "metadata": {},
   "outputs": [
    {
     "data": {
      "text/plain": [
       "Index(['name', 'capital', 'subregion', 'region', 'area', 'cioc', 'independent',\n",
       "       'gini', 'Latitude', 'Longitude'],\n",
       "      dtype='object')"
      ]
     },
     "execution_count": 889,
     "metadata": {},
     "output_type": "execute_result"
    }
   ],
   "source": [
    "#check current column names\n",
    "df.columns"
   ]
  },
  {
   "cell_type": "code",
   "execution_count": 890,
   "id": "e38a425f",
   "metadata": {},
   "outputs": [],
   "source": [
    "#replace headers using set_axis\n",
    "df = df.set_axis(['Country Name','Capital City', 'Subregion', 'World Region', 'Area', 'Abbreviation', \n",
    "                                       'Independent or Dependency', 'GINI Index', 'Latitude', 'Longitude'], axis=1)"
   ]
  },
  {
   "cell_type": "code",
   "execution_count": 891,
   "id": "a8539656",
   "metadata": {},
   "outputs": [
    {
     "data": {
      "text/html": [
       "<div>\n",
       "<style scoped>\n",
       "    .dataframe tbody tr th:only-of-type {\n",
       "        vertical-align: middle;\n",
       "    }\n",
       "\n",
       "    .dataframe tbody tr th {\n",
       "        vertical-align: top;\n",
       "    }\n",
       "\n",
       "    .dataframe thead th {\n",
       "        text-align: right;\n",
       "    }\n",
       "</style>\n",
       "<table border=\"1\" class=\"dataframe\">\n",
       "  <thead>\n",
       "    <tr style=\"text-align: right;\">\n",
       "      <th></th>\n",
       "      <th>Country Name</th>\n",
       "      <th>Capital City</th>\n",
       "      <th>Subregion</th>\n",
       "      <th>World Region</th>\n",
       "      <th>Area</th>\n",
       "      <th>Abbreviation</th>\n",
       "      <th>Independent or Dependency</th>\n",
       "      <th>GINI Index</th>\n",
       "      <th>Latitude</th>\n",
       "      <th>Longitude</th>\n",
       "    </tr>\n",
       "  </thead>\n",
       "  <tbody>\n",
       "    <tr>\n",
       "      <th>2</th>\n",
       "      <td>Albania</td>\n",
       "      <td>Tirana</td>\n",
       "      <td>Southern Europe</td>\n",
       "      <td>Europe</td>\n",
       "      <td>28748.0</td>\n",
       "      <td>ALB</td>\n",
       "      <td>True</td>\n",
       "      <td>33.2</td>\n",
       "      <td>-12.500000</td>\n",
       "      <td>18.500000</td>\n",
       "    </tr>\n",
       "    <tr>\n",
       "      <th>3</th>\n",
       "      <td>Algeria</td>\n",
       "      <td>Algiers</td>\n",
       "      <td>Northern Africa</td>\n",
       "      <td>Africa</td>\n",
       "      <td>2381741.0</td>\n",
       "      <td>ALG</td>\n",
       "      <td>True</td>\n",
       "      <td>27.6</td>\n",
       "      <td>-34.000000</td>\n",
       "      <td>-64.000000</td>\n",
       "    </tr>\n",
       "    <tr>\n",
       "      <th>6</th>\n",
       "      <td>Angola</td>\n",
       "      <td>Luanda</td>\n",
       "      <td>Middle Africa</td>\n",
       "      <td>Africa</td>\n",
       "      <td>1246700.0</td>\n",
       "      <td>ANG</td>\n",
       "      <td>True</td>\n",
       "      <td>51.3</td>\n",
       "      <td>47.333333</td>\n",
       "      <td>13.333333</td>\n",
       "    </tr>\n",
       "    <tr>\n",
       "      <th>10</th>\n",
       "      <td>Argentina</td>\n",
       "      <td>Buenos Aires</td>\n",
       "      <td>South America</td>\n",
       "      <td>Americas</td>\n",
       "      <td>2780400.0</td>\n",
       "      <td>ARG</td>\n",
       "      <td>True</td>\n",
       "      <td>42.9</td>\n",
       "      <td>50.833333</td>\n",
       "      <td>4.000000</td>\n",
       "    </tr>\n",
       "    <tr>\n",
       "      <th>11</th>\n",
       "      <td>Armenia</td>\n",
       "      <td>Yerevan</td>\n",
       "      <td>Western Asia</td>\n",
       "      <td>Asia</td>\n",
       "      <td>29743.0</td>\n",
       "      <td>ARM</td>\n",
       "      <td>True</td>\n",
       "      <td>29.9</td>\n",
       "      <td>17.250000</td>\n",
       "      <td>-88.750000</td>\n",
       "    </tr>\n",
       "  </tbody>\n",
       "</table>\n",
       "</div>"
      ],
      "text/plain": [
       "   Country Name  Capital City        Subregion World Region       Area  \\\n",
       "2       Albania        Tirana  Southern Europe       Europe    28748.0   \n",
       "3       Algeria       Algiers  Northern Africa       Africa  2381741.0   \n",
       "6        Angola        Luanda    Middle Africa       Africa  1246700.0   \n",
       "10    Argentina  Buenos Aires    South America     Americas  2780400.0   \n",
       "11      Armenia       Yerevan     Western Asia         Asia    29743.0   \n",
       "\n",
       "   Abbreviation Independent or Dependency  GINI Index   Latitude  Longitude  \n",
       "2           ALB                      True        33.2 -12.500000  18.500000  \n",
       "3           ALG                      True        27.6 -34.000000 -64.000000  \n",
       "6           ANG                      True        51.3  47.333333  13.333333  \n",
       "10          ARG                      True        42.9  50.833333   4.000000  \n",
       "11          ARM                      True        29.9  17.250000 -88.750000  "
      ]
     },
     "execution_count": 891,
     "metadata": {},
     "output_type": "execute_result"
    }
   ],
   "source": [
    "#check to ensure headers were replaced\n",
    "df.head()"
   ]
  },
  {
   "cell_type": "markdown",
   "id": "06d214e9",
   "metadata": {},
   "source": [
    "# 5: Find duplicates"
   ]
  },
  {
   "cell_type": "code",
   "execution_count": 892,
   "id": "c5a366e1",
   "metadata": {},
   "outputs": [
    {
     "data": {
      "text/plain": [
       "False"
      ]
     },
     "execution_count": 892,
     "metadata": {},
     "output_type": "execute_result"
    }
   ],
   "source": [
    "#check for duplicates using duplicated\n",
    "df['Country Name'].duplicated().any()"
   ]
  }
 ],
 "metadata": {
  "kernelspec": {
   "display_name": "Python 3 (ipykernel)",
   "language": "python",
   "name": "python3"
  },
  "language_info": {
   "codemirror_mode": {
    "name": "ipython",
    "version": 3
   },
   "file_extension": ".py",
   "mimetype": "text/x-python",
   "name": "python",
   "nbconvert_exporter": "python",
   "pygments_lexer": "ipython3",
   "version": "3.9.7"
  }
 },
 "nbformat": 4,
 "nbformat_minor": 5
}
